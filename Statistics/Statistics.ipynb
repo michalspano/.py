{
 "cells": [
  {
   "cell_type": "markdown",
   "source": [
    "# **Statistics - Mathematics**\n",
    "[GitHub](https://github.com/michalspano/Py/tree/master/Statistics)\n",
    "\n",
    "\n",
    "* [Arithmetic mean](#**Arithmetic-mean**)\n",
    "* [Geometric mean](#**Geometric-mean**)\n",
    "* [Harmonic mean](#**Harmonic-mean**)\n",
    "* [Mode](#**Mode**)\n",
    "* [Median](#**Median**)\n",
    "* [Range](#**Range**)\n",
    "* [Variance](#**Variance**)\n",
    "* [Standard deviation](#**Standard-deviation**)\n",
    "* [Output](#**Output**)"
   ],
   "attachments": {},
   "metadata": {}
  },
  {
   "cell_type": "markdown",
   "source": [
    "Round up calculations via `round_n` parameter."
   ],
   "attachments": {},
   "metadata": {}
  },
  {
   "cell_type": "code",
   "source": [
    "round_n = int(input(\"Round up [decimal places]: \"))"
   ],
   "execution_count": 1,
   "outputs": [],
   "metadata": {}
  },
  {
   "cell_type": "markdown",
   "source": [
    "# **Data set**\n",
    "* Data to input via `load_data(file)` from `data_set1.txt`.\n",
    "* Parameter `data_set` with all data elements.\n",
    "* Visualize data elements via `pandas`."
   ],
   "attachments": {},
   "metadata": {}
  },
  {
   "cell_type": "code",
   "source": [
    "def load_data(file):\n",
    "    loaded_data = []\n",
    "    with open(file, \"r\") as input_data:\n",
    "        for line in input_data:\n",
    "            loaded_data.append(int(line.strip()))\n",
    "    return loaded_data\n",
    "\n",
    "\n",
    "data_set = load_data(\"data_set1.txt\")\n",
    "\n",
    "import pandas as pd\n",
    "df_data = {\"x\": data_set}\n",
    "data_frame = pd.DataFrame.from_dict(df_data)\n",
    "data_frame.shift()[1:]"
   ],
   "execution_count": 2,
   "outputs": [
    {
     "data": {
      "text/plain": "       x\n1  302.0\n2  310.0\n3  312.0\n4  310.0\n5  313.0\n6  318.0\n7  305.0\n8  309.0\n9  310.0",
      "text/html": "<div>\n<style scoped>\n    .dataframe tbody tr th:only-of-type {\n        vertical-align: middle;\n    }\n\n    .dataframe tbody tr th {\n        vertical-align: top;\n    }\n\n    .dataframe thead th {\n        text-align: right;\n    }\n</style>\n<table border=\"1\" class=\"dataframe\">\n  <thead>\n    <tr style=\"text-align: right;\">\n      <th></th>\n      <th>x</th>\n    </tr>\n  </thead>\n  <tbody>\n    <tr>\n      <th>1</th>\n      <td>302.0</td>\n    </tr>\n    <tr>\n      <th>2</th>\n      <td>310.0</td>\n    </tr>\n    <tr>\n      <th>3</th>\n      <td>312.0</td>\n    </tr>\n    <tr>\n      <th>4</th>\n      <td>310.0</td>\n    </tr>\n    <tr>\n      <th>5</th>\n      <td>313.0</td>\n    </tr>\n    <tr>\n      <th>6</th>\n      <td>318.0</td>\n    </tr>\n    <tr>\n      <th>7</th>\n      <td>305.0</td>\n    </tr>\n    <tr>\n      <th>8</th>\n      <td>309.0</td>\n    </tr>\n    <tr>\n      <th>9</th>\n      <td>310.0</td>\n    </tr>\n  </tbody>\n</table>\n</div>"
     },
     "execution_count": 2,
     "metadata": {},
     "output_type": "execute_result"
    }
   ],
   "metadata": {}
  },
  {
   "cell_type": "markdown",
   "source": [
    "# **Arithmetic mean** \n",
    "`arithmetic_mean(arr)` returns `X_a`.\n",
    "$$A=\\frac{1}{n} \\sum_{i-1}^{n} x_{i}=\\frac{x_{1}+x_{2}+\\cdots+x_{n}}{n}$$"
   ],
   "attachments": {},
   "metadata": {}
  },
  {
   "cell_type": "code",
   "source": [
    "def arithmetic_mean(arr):\n",
    "    x_a = int()\n",
    "    for i in range(len(arr)):\n",
    "        x_a += arr[i]\n",
    "    return round(x_a / len(arr), round_n)\n",
    "\n",
    "\n",
    "X_a = arithmetic_mean(data_set)"
   ],
   "execution_count": 3,
   "outputs": [],
   "metadata": {}
  },
  {
   "cell_type": "markdown",
   "source": [
    "# **Geometric mean**\n",
    "`geometric_mean(arr)` returns `X_g`.\n",
    "$$G = \\left(\\prod _{i=1}^{n}x_{i}\\right)^{\\frac {1}{n}}={\\sqrt[{n}]{x_{1}x_{2}\\cdots x_{n}}}$$"
   ],
   "attachments": {},
   "metadata": {}
  },
  {
   "cell_type": "code",
   "source": [
    "def geometric_mean(arr):\n",
    "    x_g = arr[0]\n",
    "    for i in range(1, len(arr)):\n",
    "        x_g *= arr[i]\n",
    "    return round(x_g ** (len(arr) ** - 1), round_n)\n",
    "\n",
    "\n",
    "X_g = geometric_mean(data_set)"
   ],
   "execution_count": 4,
   "outputs": [],
   "metadata": {}
  },
  {
   "cell_type": "markdown",
   "source": [
    "# **Harmonic mean**\n",
    "`harmonic_mean(arr)` returns `X_h`.\n",
    "$$H=\\frac{n}{\\frac{1}{x_{1}}+\\frac{1}{x_{2}}+\\cdots+\\frac{1}{x_{n}}}=\\frac{n}{\\sum_{i=1}^{n} \\frac{1}{x_{i}}}=\\left(\\frac{\\sum_{i=1}^{n} x_{i}^{-1}}{n}\\right)^{-1}$$"
   ],
   "attachments": {},
   "metadata": {}
  },
  {
   "cell_type": "code",
   "source": [
    "def harmonic_mean(arr):\n",
    "    x_h = float()\n",
    "    for i in range(len(arr)):\n",
    "        x_h += (1 / arr[i])\n",
    "    return round(len(arr) / x_h, round_n)\n",
    "\n",
    "\n",
    "X_h = harmonic_mean(data_set)"
   ],
   "execution_count": 5,
   "outputs": [],
   "metadata": {}
  },
  {
   "cell_type": "markdown",
   "source": [
    "# **Mode**\n",
    "`mode(arr)` returns `mod_x`."
   ],
   "attachments": {},
   "metadata": {}
  },
  {
   "cell_type": "code",
   "source": [
    "def mode(arr):\n",
    "    from collections import Counter\n",
    "    frequency = []\n",
    "    for key, value in Counter(arr).items():\n",
    "        value_set = (value, key)\n",
    "        frequency.append(value_set)\n",
    "\n",
    "    max_frequency = max(frequency)\n",
    "    return max_frequency[1]\n",
    "\n",
    "\n",
    "mod_x = mode(data_set)"
   ],
   "execution_count": 6,
   "outputs": [],
   "metadata": {}
  },
  {
   "cell_type": "markdown",
   "source": [
    "# **Median**\n",
    "`median(arr)` returns `med_x`."
   ],
   "attachments": {},
   "metadata": {}
  },
  {
   "cell_type": "code",
   "source": [
    "def median(arr):\n",
    "    r_arr = len(arr)\n",
    "    ordered_arr = sorted(arr)\n",
    "    index = int(r_arr / 2)\n",
    "\n",
    "    if r_arr % 2 == 0:\n",
    "        return round((ordered_arr[index - 1] + ordered_arr[index]) / 2, round_n)\n",
    "    else:\n",
    "        return round(index)\n",
    "\n",
    "\n",
    "med_x = median(data_set)"
   ],
   "execution_count": 7,
   "outputs": [],
   "metadata": {}
  },
  {
   "cell_type": "markdown",
   "source": [
    "# **Range**\n",
    "`range_function(arr)` returns `range_x`.\n",
    "$${R}={x}_{\\max }-{x}_{\\min }$$"
   ],
   "attachments": {},
   "metadata": {}
  },
  {
   "cell_type": "code",
   "source": [
    "def range_function(arr):\n",
    "    return min(arr), max(arr)\n",
    "\n",
    "\n",
    "r = range_function(data_set)\n",
    "range_x = f\"<{r[0]};{r[1]}>\""
   ],
   "execution_count": 8,
   "outputs": [],
   "metadata": {}
  },
  {
   "cell_type": "markdown",
   "source": [
    "# **Variance**\n",
    "`variance_function(arr, avg)` returns `v_x`.\n",
    "$$s={\\frac{1}{n} \\sum_{i=1}^{n}\\left(x_{i}-\\bar{x}\\right)^{2}}$$"
   ],
   "attachments": {},
   "metadata": {}
  },
  {
   "cell_type": "code",
   "source": [
    "def variance_function(arr, avg):\n",
    "    v_sum = float()\n",
    "    for i in range(len(arr)):\n",
    "        v_sum += (arr[i] - avg) ** 2\n",
    "    return round(v_sum / len(arr), round_n)\n",
    "\n",
    "\n",
    "v_x = variance_function(data_set, X_a)"
   ],
   "execution_count": 9,
   "outputs": [],
   "metadata": {}
  },
  {
   "cell_type": "markdown",
   "source": [
    "# **Standard deviation**\n",
    "`standard_deviation(v)` returns `s`.\n",
    "$$s=\\sqrt{\\frac{1}{n} \\sum_{i=1}^{n}\\left(x_{i}-\\bar{x}\\right)^{2}}$$"
   ],
   "attachments": {},
   "metadata": {}
  },
  {
   "cell_type": "code",
   "source": [
    "def standard_deviation(v):\n",
    "    return round(v ** (1 / 2), round_n)\n",
    "\n",
    "\n",
    "s = standard_deviation(v_x)"
   ],
   "execution_count": 10,
   "outputs": [],
   "metadata": {}
  },
  {
   "cell_type": "markdown",
   "source": [
    "# **Output**\n",
    "Display calculations using `pandas`."
   ],
   "attachments": {},
   "metadata": {}
  },
  {
   "cell_type": "code",
   "source": [
    "import pandas as pd\n",
    "\n",
    "methods = [\"Arithmetic mean\", \"Geometric mean\", \"Harmonic mean\", \"Mode\", \"Median\", \"Variance\", \"Standard deviation\"]\n",
    "values = [X_a, X_g, X_h, mod_x, med_x, v_x, s]\n",
    "data = {'Method': methods, 'Calculation': values}\n",
    "df = pd.DataFrame.from_dict(data)\n",
    "df.shift()[1:]"
   ],
   "execution_count": 11,
   "outputs": [
    {
     "data": {
      "text/plain": "            Method  Calculation\n1  Arithmetic mean   309.800000\n2   Geometric mean   309.772947\n3    Harmonic mean   309.745889\n4             Mode   310.000000\n5           Median   310.000000\n6         Variance    16.760000",
      "text/html": "<div>\n<style scoped>\n    .dataframe tbody tr th:only-of-type {\n        vertical-align: middle;\n    }\n\n    .dataframe tbody tr th {\n        vertical-align: top;\n    }\n\n    .dataframe thead th {\n        text-align: right;\n    }\n</style>\n<table border=\"1\" class=\"dataframe\">\n  <thead>\n    <tr style=\"text-align: right;\">\n      <th></th>\n      <th>Method</th>\n      <th>Calculation</th>\n    </tr>\n  </thead>\n  <tbody>\n    <tr>\n      <th>1</th>\n      <td>Arithmetic mean</td>\n      <td>309.800000</td>\n    </tr>\n    <tr>\n      <th>2</th>\n      <td>Geometric mean</td>\n      <td>309.772947</td>\n    </tr>\n    <tr>\n      <th>3</th>\n      <td>Harmonic mean</td>\n      <td>309.745889</td>\n    </tr>\n    <tr>\n      <th>4</th>\n      <td>Mode</td>\n      <td>310.000000</td>\n    </tr>\n    <tr>\n      <th>5</th>\n      <td>Median</td>\n      <td>310.000000</td>\n    </tr>\n    <tr>\n      <th>6</th>\n      <td>Variance</td>\n      <td>16.760000</td>\n    </tr>\n  </tbody>\n</table>\n</div>"
     },
     "execution_count": 11,
     "metadata": {},
     "output_type": "execute_result"
    }
   ],
   "metadata": {}
  }
 ],
 "metadata": {
  "kernelspec": {
   "name": "python3",
   "language": "python",
   "display_name": "Python 3"
  }
 },
 "nbformat": 4,
 "nbformat_minor": 0
}